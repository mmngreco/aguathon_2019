{
 "cells": [
  {
   "cell_type": "code",
   "execution_count": 1,
   "metadata": {},
   "outputs": [
    {
     "name": "stderr",
     "output_type": "stream",
     "text": [
      "Using TensorFlow backend.\n"
     ]
    }
   ],
   "source": [
    "import pandas as pd\n",
    "import numpy as np\n",
    "import matplotlib\n",
    "import matplotlib.pyplot as plt\n",
    "from keras.models import Sequential\n",
    "from keras.layers import Dense, LSTM, GRU, SimpleRNN, Dropout, Activation, RepeatVector, TimeDistributed\n",
    "from keras.regularizers import l1\n",
    "from keras.callbacks import EarlyStopping\n",
    "from sklearn.metrics import mean_squared_error\n",
    "from sklearn import preprocessing\n",
    "import math\n",
    "\n",
    "import os\n",
    "os.environ[\"KMP_DUPLICATE_LIB_OK\"] = \"TRUE\"\n",
    "\n",
    "plt.switch_backend('TkAgg')\n",
    "%matplotlib inline\n",
    "\n",
    "# get data\n",
    "fname = \"./datos.csv\"\n",
    "data = pd.read_csv(fname, index_col=0)\n",
    "data.index = data.index.astype(\"datetime64[ns]\")\n",
    "data.sort_index(ascending=True, inplace=True)\n",
    "data_fixed = data.groupby(lambda x: x.weekofyear).transform(lambda x: x.fillna(x.mean()))\n",
    "all_levels = data_fixed.iloc[:, :6].values.astype(\"float64\")\n",
    "names = data_fixed.columns[:6]\n",
    "river_i_list = [0,1,2,3,4,5]\n",
    "river_i_list = [5]\n",
    "\n",
    "np.random.seed(7)\n",
    "\n",
    "# Get current size\n",
    "fig_size = plt.rcParams[\"figure.figsize\"]\n",
    "# Set figure width to 12 and height to 9\n",
    "fig_size[0] = 12\n",
    "fig_size[1] = 9\n",
    "plt.rcParams[\"figure.figsize\"] = fig_size"
   ]
  },
  {
   "cell_type": "code",
   "execution_count": 12,
   "metadata": {},
   "outputs": [],
   "source": [
    "def train_test_split(dataset, train_frac):\n",
    "    train_size = int(len(dataset)*train_frac)\n",
    "    return dataset[:train_size, :], dataset[train_size: ,:]\n",
    "\n",
    "def create_datasets(dataset, look_back=1, look_ahead=1):\n",
    "    data_x, data_y = [], []\n",
    "    for i in range(len(dataset)-look_back-look_ahead+1):\n",
    "        window = dataset[i:(i+look_back), 0]\n",
    "        data_x.append(window)\n",
    "        data_y.append(dataset[i + look_back:i + look_back + look_ahead , 0])\n",
    "    return np.array(data_x), np.array(data_y)\n",
    "\n",
    "def reverse_scale(data, mean, std):\n",
    "    for x in np.nditer(data, op_flags=['readwrite']):\n",
    "        x[...] = x*std + mean\n",
    "    return data\n",
    "\n",
    "def calculate_error(train_y, test_y, pred_train, pred_test):\n",
    "    test_score = math.sqrt(mean_squared_error(test_y, pred_test))\n",
    "    train_score = math.sqrt(mean_squared_error(train_y, pred_train))\n",
    "    return train_score, test_score\n",
    "\n",
    "def mean_absolute_percentage(y, y_pred):\n",
    "    return np.mean(np.abs((y - y_pred) / y)) * 100\n",
    "\n",
    "def root_mse(pred_test, test_y):\n",
    "    t = []\n",
    "    for i in range(20):\n",
    "        score = math.sqrt(mean_squared_error(pred_test[:,i,:], test_y[:,i,:]))\n",
    "        t.append(score)\n",
    "        print(i+1, \"  ->  \", score)\n",
    "        \n",
    "    return score\n",
    "\n",
    "def plot_4_errors(pred_test, test_y, er1, er2, er3 ):\n",
    "    plt.subplot(221)\n",
    "    plt.plot(test_y[:,23,:], label=\"Observed\")\n",
    "    plt.plot(pred_test[:,23,:], color=\"red\", label=\"Predicted, MAPE: \"+ str(round(er1, 5))+\"%\")\n",
    "    plt.title(\"24 step ahead prediction\")\n",
    "    plt.ylabel(\"River Level\")\n",
    "    plt.legend(loc=1, fontsize = 8, framealpha=0.8)\n",
    "    \n",
    "    plt.subplot(222)\n",
    "    plt.plot(pred_test[:,47,:], color=\"red\", label=\"Predicted, MAPE: \"+ str(round(er2, 5))+\"%\")\n",
    "    plt.plot(test_y[:,47,:], label=\"Observed\")\n",
    "    plt.title(\"48 step ahead prediction\")\n",
    "    plt.legend(loc=1, fontsize = 8, framealpha=0.8)\n",
    "\n",
    "    plt.subplot(223)\n",
    "    plt.plot(pred_test[:,71,:], color=\"red\", label=\"Predicted, MAPE: \"+ str(round(er3, 5))+\"%\")\n",
    "    plt.plot(test_y[:,71,:], label=\"Observed\")\n",
    "    plt.title(\"72 step ahead prediction\")\n",
    "    plt.legend(loc=1, fontsize = 8, framealpha=0.8)\n",
    "    plt.tight_layout()\n",
    "    plt.show()\n",
    "\n"
   ]
  },
  {
   "cell_type": "code",
   "execution_count": 8,
   "metadata": {},
   "outputs": [],
   "source": [
    "def do_everything(look_back, look_ahead, river_level, split, epochs, batch_size, model):\n",
    "    river = river_level\n",
    "    # river = all_levels[all_levels['riverstation_id'] == riverstation_id]['level'].values\n",
    "    \n",
    "    river_mean, river_std = river.mean(), river.std()\n",
    "\n",
    "    river = preprocessing.scale(river).reshape(len(river), 1)\n",
    "\n",
    "    # split data into train and test subsets\n",
    "    train, test = train_test_split(river, split)\n",
    "    train_x, train_y = create_datasets(train, look_back, look_ahead)\n",
    "    test_x, test_y = create_datasets(test, look_back, look_ahead)\n",
    "\n",
    "    # reshape the data to match Keras LSTM gate input [samples, time steps, features]\n",
    "    train_x = np.reshape(train_x, (train_x.shape[0], train_x.shape[1], 1))\n",
    "    train_y = np.reshape(train_y, (train_y.shape[0], train_y.shape[1], 1))\n",
    "\n",
    "    test_x = np.reshape(test_x, (test_x.shape[0], test_x.shape[1], 1))\n",
    "    test_y = np.reshape(test_y, (test_y.shape[0], test_y.shape[1], 1))\n",
    "\n",
    "\n",
    "    model.fit(train_x, \n",
    "              train_y, \n",
    "              epochs=epochs, \n",
    "              batch_size=batch_size, \n",
    "              verbose=3,\n",
    "              validation_split = 0.1,\n",
    "              callbacks = [\n",
    "                EarlyStopping(monitor='val_loss', min_delta=0.001, patience=3, verbose=2, mode='auto')\n",
    "              ]\n",
    "             )\n",
    "\n",
    "    pred_train = model.predict(train_x)\n",
    "    pred_test = model.predict(test_x)\n",
    "\n",
    "    pred_train = reverse_scale(pred_train, river_mean, river_std)\n",
    "    pred_test = reverse_scale(pred_test, river_mean, river_std)\n",
    "    test_y = reverse_scale(test_y, river_mean, river_std)\n",
    "    train_y = reverse_scale(train_y, river_mean, river_std)\n",
    "    \n",
    "    errors = []\n",
    "    for i in range(test_y.shape[1]):\n",
    "        errors.append(mean_absolute_percentage(test_y[:,i,:], pred_test[:,i,:]))\n",
    "        \n",
    "    plot_4_errors(pred_test, test_y, errors[23], errors[47], errors[71])\n",
    "    # root_mse(pred_test, test_y)\n",
    "    \n",
    "    return errors, model"
   ]
  },
  {
   "cell_type": "code",
   "execution_count": 21,
   "metadata": {},
   "outputs": [
    {
     "name": "stdout",
     "output_type": "stream",
     "text": [
      "_________________________________________________________________\n",
      "Layer (type)                 Output Shape              Param #   \n",
      "=================================================================\n",
      "gru_10 (GRU)                 (None, 16)                864       \n",
      "_________________________________________________________________\n",
      "repeat_vector_4 (RepeatVecto (None, 73, 16)            0         \n",
      "_________________________________________________________________\n",
      "gru_11 (GRU)                 (None, 73, 8)             600       \n",
      "_________________________________________________________________\n",
      "gru_12 (GRU)                 (None, 73, 8)             408       \n",
      "_________________________________________________________________\n",
      "time_distributed_4 (TimeDist (None, 73, 1)             9         \n",
      "=================================================================\n",
      "Total params: 1,881\n",
      "Trainable params: 1,881\n",
      "Non-trainable params: 0\n",
      "_________________________________________________________________\n"
     ]
    }
   ],
   "source": [
    "scores = []\n",
    "model_list = []\n",
    "river_i_list = [5]\n",
    "look_back = 24*5\n",
    "look_ahead = 72+1\n",
    "split = 0.8\n",
    "epochs = 20\n",
    "batch_size = 280\n",
    "model = build_seq2seq_model(look_ahead)"
   ]
  },
  {
   "cell_type": "code",
   "execution_count": 22,
   "metadata": {},
   "outputs": [
    {
     "name": "stdout",
     "output_type": "stream",
     "text": [
      "Train on 68842 samples, validate on 7650 samples\n",
      "Epoch 1/20\n",
      "Epoch 2/20\n",
      "Epoch 3/20\n",
      "Epoch 4/20\n",
      "Epoch 5/20\n",
      "Epoch 6/20\n",
      "Epoch 00006: early stopping\n"
     ]
    },
    {
     "data": {
      "image/png": "[encoded data removed]",
      "text/plain": [
       "<Figure size 432x288 with 3 Axes>"
      ]
     },
     "metadata": {
      "needs_background": "light"
     },
     "output_type": "display_data"
    }
   ],
   "source": [
    "for i in river_i_list:\n",
    "    river_level=all_levels[:, i]\n",
    "    err = do_everything(look_back, look_ahead, river_level, split, epochs, batch_size, model)\n",
    "    scores.append(err)\n",
    "    model_list.append(model)"
   ]
  },
  {
   "cell_type": "code",
   "execution_count": 23,
   "metadata": {},
   "outputs": [
    {
     "data": {
      "text/plain": [
       "[([6.445294232941894,\n",
       "   3.4696206503218336,\n",
       "   4.7242274646766695,\n",
       "   6.200400877964122,\n",
       "   7.107122397963929,\n",
       "   7.58988000906122,\n",
       "   7.879332746309349,\n",
       "   8.090351669349436,\n",
       "   8.266839072351248,\n",
       "   8.420022648515499,\n",
       "   8.557850987984622,\n",
       "   8.680340876623356,\n",
       "   8.790630804171466,\n",
       "   8.893114045122807,\n",
       "   8.992541906483293,\n",
       "   9.094002267545537,\n",
       "   9.194896694935647,\n",
       "   9.296269869895616,\n",
       "   9.397329505342695,\n",
       "   9.499042858839665,\n",
       "   9.602093542569435,\n",
       "   9.706279060935874,\n",
       "   9.812188425055004,\n",
       "   9.918374663544798,\n",
       "   10.024884670663575,\n",
       "   10.134220900116402,\n",
       "   10.245627525514294,\n",
       "   10.361951447313844,\n",
       "   10.48178973084197,\n",
       "   10.60295553314722,\n",
       "   10.723744151471589,\n",
       "   10.844539386732091,\n",
       "   10.965604769070994,\n",
       "   11.085108893720344,\n",
       "   11.203920142740555,\n",
       "   11.322411593840911,\n",
       "   11.440973333194393,\n",
       "   11.55750714772303,\n",
       "   11.671657910358277,\n",
       "   11.784985155115795,\n",
       "   11.89805419210041,\n",
       "   12.010676614455436,\n",
       "   12.12314215437585,\n",
       "   12.235922214136245,\n",
       "   12.345785997205471,\n",
       "   12.453628833616479,\n",
       "   12.56013225377818,\n",
       "   12.667415202065726,\n",
       "   12.7741611904299,\n",
       "   12.880992880619413,\n",
       "   12.985856215325972,\n",
       "   13.089108088766514,\n",
       "   13.194199678163596,\n",
       "   13.298318683240199,\n",
       "   13.401338444502548,\n",
       "   13.504530886047878,\n",
       "   13.60724803219898,\n",
       "   13.709902131597525,\n",
       "   13.809092459214483,\n",
       "   13.90450694718439,\n",
       "   13.996921172820064,\n",
       "   14.086810240823356,\n",
       "   14.176003345459756,\n",
       "   14.265315947708451,\n",
       "   14.353074755644851,\n",
       "   14.440488255620137,\n",
       "   14.527239023932406,\n",
       "   14.612542664173716,\n",
       "   14.695449215337325,\n",
       "   14.776138045532214,\n",
       "   14.85605291268243,\n",
       "   14.935762657911106,\n",
       "   15.016842488545068],\n",
       "  <keras.engine.sequential.Sequential at 0x1a5b688390>)]"
      ]
     },
     "execution_count": 23,
     "metadata": {},
     "output_type": "execute_result"
    }
   ],
   "source": [
    "scores"
   ]
  },
  {
   "cell_type": "code",
   "execution_count": 14,
   "metadata": {},
   "outputs": [
    {
     "name": "stdout",
     "output_type": "stream",
     "text": [
      "_________________________________________________________________\n",
      "Layer (type)                 Output Shape              Param #   \n",
      "=================================================================\n",
      "gru_7 (GRU)                  (None, 16)                864       \n",
      "_________________________________________________________________\n",
      "repeat_vector_3 (RepeatVecto (None, 72, 16)            0         \n",
      "_________________________________________________________________\n",
      "gru_8 (GRU)                  (None, 72, 8)             600       \n",
      "_________________________________________________________________\n",
      "gru_9 (GRU)                  (None, 72, 8)             408       \n",
      "_________________________________________________________________\n",
      "time_distributed_3 (TimeDist (None, 72, 1)             9         \n",
      "=================================================================\n",
      "Total params: 1,881\n",
      "Trainable params: 1,881\n",
      "Non-trainable params: 0\n",
      "_________________________________________________________________\n"
     ]
    }
   ],
   "source": [
    "model.summary()"
   ]
  },
  {
   "cell_type": "code",
   "execution_count": 15,
   "metadata": {},
   "outputs": [],
   "source": [
    "import pickle"
   ]
  },
  {
   "cell_type": "code",
   "execution_count": 20,
   "metadata": {},
   "outputs": [],
   "source": [
    "with open(\"rnn_globals.pkl\", \"wb\") as f:\n",
    "    pickle.dump(\"model\", f)"
   ]
  },
  {
   "cell_type": "code",
   "execution_count": null,
   "metadata": {},
   "outputs": [],
   "source": [
    "model.predict()"
   ]
  }
 ],
 "metadata": {
  "kernelspec": {
   "display_name": "Python 3",
   "language": "python",
   "name": "python3"
  },
  "language_info": {
   "codemirror_mode": {
    "name": "ipython",
    "version": 3
   },
   "file_extension": ".py",
   "mimetype": "text/x-python",
   "name": "python",
   "nbconvert_exporter": "python",
   "pygments_lexer": "ipython3",
   "version": "3.6.8"
  }
 },
 "nbformat": 4,
 "nbformat_minor": 2
}
